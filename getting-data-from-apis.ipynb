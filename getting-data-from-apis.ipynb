{
 "cells": [
  {
   "cell_type": "markdown",
   "id": "82515372",
   "metadata": {
    "papermill": {
     "duration": 0.008675,
     "end_time": "2024-09-04T12:08:09.441340",
     "exception": false,
     "start_time": "2024-09-04T12:08:09.432665",
     "status": "completed"
    },
    "tags": []
   },
   "source": [
    "**Goals**\n",
    "1. Extract stockdata from AlphaVantage API using a url\n",
    "2. Extract stock data from AlphaVantage API using a HTTP request\n",
    "3. Write functions for transforming data"
   ]
  },
  {
   "cell_type": "markdown",
   "id": "dd79db9d",
   "metadata": {
    "papermill": {
     "duration": 0.007124,
     "end_time": "2024-09-04T12:08:09.456238",
     "exception": false,
     "start_time": "2024-09-04T12:08:09.449114",
     "status": "completed"
    },
    "tags": []
   },
   "source": [
    "**Import the necessary libraries**"
   ]
  },
  {
   "cell_type": "code",
   "execution_count": 1,
   "id": "ce899753",
   "metadata": {
    "execution": {
     "iopub.execute_input": "2024-09-04T12:08:09.473712Z",
     "iopub.status.busy": "2024-09-04T12:08:09.473227Z",
     "iopub.status.idle": "2024-09-04T12:08:10.054985Z",
     "shell.execute_reply": "2024-09-04T12:08:10.053529Z"
    },
    "papermill": {
     "duration": 0.594505,
     "end_time": "2024-09-04T12:08:10.058144",
     "exception": false,
     "start_time": "2024-09-04T12:08:09.463639",
     "status": "completed"
    },
    "tags": []
   },
   "outputs": [],
   "source": [
    "import pandas as pd\n",
    "import requests"
   ]
  },
  {
   "cell_type": "markdown",
   "id": "772580e3",
   "metadata": {
    "papermill": {
     "duration": 0.007168,
     "end_time": "2024-09-04T12:08:10.073104",
     "exception": false,
     "start_time": "2024-09-04T12:08:10.065936",
     "status": "completed"
    },
    "tags": []
   },
   "source": [
    "# **Accesing APIs Through URL**"
   ]
  },
  {
   "cell_type": "code",
   "execution_count": 2,
   "id": "079c13e7",
   "metadata": {
    "execution": {
     "iopub.execute_input": "2024-09-04T12:08:10.090604Z",
     "iopub.status.busy": "2024-09-04T12:08:10.089993Z",
     "iopub.status.idle": "2024-09-04T12:08:10.096001Z",
     "shell.execute_reply": "2024-09-04T12:08:10.094606Z"
    },
    "papermill": {
     "duration": 0.018308,
     "end_time": "2024-09-04T12:08:10.098827",
     "exception": false,
     "start_time": "2024-09-04T12:08:10.080519",
     "status": "completed"
    },
    "tags": []
   },
   "outputs": [],
   "source": [
    "url = (\n",
    "    \"https://www.alphavantage.co/query?\"\n",
    "    \"function=TIME_SERIES_DAILY&\"\n",
    "    \"symbol=IBM&\"\n",
    "    \"apikey=demo\"\n",
    ")"
   ]
  },
  {
   "cell_type": "code",
   "execution_count": 3,
   "id": "785df11b",
   "metadata": {
    "execution": {
     "iopub.execute_input": "2024-09-04T12:08:10.116545Z",
     "iopub.status.busy": "2024-09-04T12:08:10.116105Z",
     "iopub.status.idle": "2024-09-04T12:08:10.128198Z",
     "shell.execute_reply": "2024-09-04T12:08:10.126698Z"
    },
    "papermill": {
     "duration": 0.024398,
     "end_time": "2024-09-04T12:08:10.131312",
     "exception": false,
     "start_time": "2024-09-04T12:08:10.106914",
     "status": "completed"
    },
    "tags": []
   },
   "outputs": [
    {
     "name": "stdout",
     "output_type": "stream",
     "text": [
      "url type: <class 'str'>\n"
     ]
    },
    {
     "data": {
      "text/plain": [
       "'https://www.alphavantage.co/query?function=TIME_SERIES_DAILY&symbol=IBM&apikey=demo'"
      ]
     },
     "execution_count": 3,
     "metadata": {},
     "output_type": "execute_result"
    }
   ],
   "source": [
    "print(\"url type:\", type(url))\n",
    "url"
   ]
  },
  {
   "cell_type": "markdown",
   "id": "40fcb445",
   "metadata": {
    "papermill": {
     "duration": 0.007465,
     "end_time": "2024-09-04T12:08:10.146718",
     "exception": false,
     "start_time": "2024-09-04T12:08:10.139253",
     "status": "completed"
    },
    "tags": []
   },
   "source": [
    "**Storing API keys**"
   ]
  },
  {
   "cell_type": "code",
   "execution_count": 4,
   "id": "8d7c8f39",
   "metadata": {
    "execution": {
     "iopub.execute_input": "2024-09-04T12:08:10.164213Z",
     "iopub.status.busy": "2024-09-04T12:08:10.163679Z",
     "iopub.status.idle": "2024-09-04T12:08:10.168906Z",
     "shell.execute_reply": "2024-09-04T12:08:10.167748Z"
    },
    "papermill": {
     "duration": 0.017259,
     "end_time": "2024-09-04T12:08:10.171644",
     "exception": false,
     "start_time": "2024-09-04T12:08:10.154385",
     "status": "completed"
    },
    "tags": []
   },
   "outputs": [],
   "source": [
    "alpha_api_key = \"PGPVDW57277TSFM3\""
   ]
  },
  {
   "cell_type": "markdown",
   "id": "f2caff2e",
   "metadata": {
    "papermill": {
     "duration": 0.007469,
     "end_time": "2024-09-04T12:08:10.186924",
     "exception": false,
     "start_time": "2024-09-04T12:08:10.179455",
     "status": "completed"
    },
    "tags": []
   },
   "source": [
    "**URL for Alibaba Group Holding Limited**"
   ]
  },
  {
   "cell_type": "code",
   "execution_count": 5,
   "id": "690f12d9",
   "metadata": {
    "execution": {
     "iopub.execute_input": "2024-09-04T12:08:10.204964Z",
     "iopub.status.busy": "2024-09-04T12:08:10.204508Z",
     "iopub.status.idle": "2024-09-04T12:08:10.214193Z",
     "shell.execute_reply": "2024-09-04T12:08:10.212365Z"
    },
    "papermill": {
     "duration": 0.022057,
     "end_time": "2024-09-04T12:08:10.217248",
     "exception": false,
     "start_time": "2024-09-04T12:08:10.195191",
     "status": "completed"
    },
    "tags": []
   },
   "outputs": [
    {
     "name": "stdout",
     "output_type": "stream",
     "text": [
      "url type: <class 'str'>\n"
     ]
    },
    {
     "data": {
      "text/plain": [
       "'https://www.alphavantage.co/query?function=TIME_SERIES_DAILY&symbol=BABA&apikey=PGPVDW57277TSFM3'"
      ]
     },
     "execution_count": 5,
     "metadata": {},
     "output_type": "execute_result"
    }
   ],
   "source": [
    "url = (\n",
    "    \"https://www.alphavantage.co/query?\"\n",
    "    \"function=TIME_SERIES_DAILY&\"\n",
    "    \"symbol=BABA&\"\n",
    "    f\"apikey={alpha_api_key}\"\n",
    ")\n",
    "print(\"url type:\", type(url))\n",
    "url"
   ]
  },
  {
   "cell_type": "markdown",
   "id": "acae347f",
   "metadata": {
    "papermill": {
     "duration": 0.008472,
     "end_time": "2024-09-04T12:08:10.235048",
     "exception": false,
     "start_time": "2024-09-04T12:08:10.226576",
     "status": "completed"
    },
    "tags": []
   },
   "source": [
    "**URL for Alibaba Group Holdings Limited With Parameters**"
   ]
  },
  {
   "cell_type": "code",
   "execution_count": 6,
   "id": "33baac17",
   "metadata": {
    "execution": {
     "iopub.execute_input": "2024-09-04T12:08:10.255066Z",
     "iopub.status.busy": "2024-09-04T12:08:10.254432Z",
     "iopub.status.idle": "2024-09-04T12:08:10.265567Z",
     "shell.execute_reply": "2024-09-04T12:08:10.264164Z"
    },
    "papermill": {
     "duration": 0.024,
     "end_time": "2024-09-04T12:08:10.268339",
     "exception": false,
     "start_time": "2024-09-04T12:08:10.244339",
     "status": "completed"
    },
    "tags": []
   },
   "outputs": [
    {
     "name": "stdout",
     "output_type": "stream",
     "text": [
      "url type: <class 'str'>\n"
     ]
    },
    {
     "data": {
      "text/plain": [
       "'https://www.alphavantage.co/query?function=TIME_SERIES_DAILY&symbol=BABA&outputsize=compact&datatype=json&apikey=PGPVDW57277TSFM3'"
      ]
     },
     "execution_count": 6,
     "metadata": {},
     "output_type": "execute_result"
    }
   ],
   "source": [
    "ticker = \"BABA\"\n",
    "output_size = \"compact\"\n",
    "data_type = \"json\"\n",
    "\n",
    "url = (\n",
    "    \"https://www.alphavantage.co/query?\"\n",
    "    \"function=TIME_SERIES_DAILY&\"\n",
    "    f\"symbol={ticker}&\"\n",
    "    f\"outputsize={output_size}&\"\n",
    "    f\"datatype={data_type}&\"\n",
    "    f\"apikey={alpha_api_key}\"\n",
    ")\n",
    "print(\"url type:\", type(url))\n",
    "url"
   ]
  },
  {
   "cell_type": "markdown",
   "id": "7da382cc",
   "metadata": {
    "papermill": {
     "duration": 0.008659,
     "end_time": "2024-09-04T12:08:10.285880",
     "exception": false,
     "start_time": "2024-09-04T12:08:10.277221",
     "status": "completed"
    },
    "tags": []
   },
   "source": [
    "# **Accesing APIs through a Request**"
   ]
  },
  {
   "cell_type": "code",
   "execution_count": 7,
   "id": "253f8298",
   "metadata": {
    "execution": {
     "iopub.execute_input": "2024-09-04T12:08:10.305259Z",
     "iopub.status.busy": "2024-09-04T12:08:10.304803Z",
     "iopub.status.idle": "2024-09-04T12:08:10.709424Z",
     "shell.execute_reply": "2024-09-04T12:08:10.708141Z"
    },
    "papermill": {
     "duration": 0.417887,
     "end_time": "2024-09-04T12:08:10.712226",
     "exception": false,
     "start_time": "2024-09-04T12:08:10.294339",
     "status": "completed"
    },
    "tags": []
   },
   "outputs": [
    {
     "name": "stdout",
     "output_type": "stream",
     "text": [
      "response type: <class 'requests.models.Response'>\n"
     ]
    }
   ],
   "source": [
    "response = requests.get(url=url)\n",
    "print(\"response type:\", type(response))"
   ]
  },
  {
   "cell_type": "markdown",
   "id": "837719d3",
   "metadata": {
    "papermill": {
     "duration": 0.008164,
     "end_time": "2024-09-04T12:08:10.728808",
     "exception": false,
     "start_time": "2024-09-04T12:08:10.720644",
     "status": "completed"
    },
    "tags": []
   },
   "source": [
    "**Response Attributes**"
   ]
  },
  {
   "cell_type": "code",
   "execution_count": 8,
   "id": "587f2699",
   "metadata": {
    "execution": {
     "iopub.execute_input": "2024-09-04T12:08:10.748891Z",
     "iopub.status.busy": "2024-09-04T12:08:10.747800Z",
     "iopub.status.idle": "2024-09-04T12:08:10.757189Z",
     "shell.execute_reply": "2024-09-04T12:08:10.756012Z"
    },
    "papermill": {
     "duration": 0.021997,
     "end_time": "2024-09-04T12:08:10.759635",
     "exception": false,
     "start_time": "2024-09-04T12:08:10.737638",
     "status": "completed"
    },
    "tags": []
   },
   "outputs": [
    {
     "data": {
      "text/plain": [
       "['__attrs__',\n",
       " '__bool__',\n",
       " '__class__',\n",
       " '__delattr__',\n",
       " '__dict__',\n",
       " '__dir__',\n",
       " '__doc__',\n",
       " '__enter__',\n",
       " '__eq__',\n",
       " '__exit__',\n",
       " '__format__',\n",
       " '__ge__',\n",
       " '__getattribute__',\n",
       " '__getstate__',\n",
       " '__gt__',\n",
       " '__hash__',\n",
       " '__init__',\n",
       " '__init_subclass__',\n",
       " '__iter__',\n",
       " '__le__',\n",
       " '__lt__',\n",
       " '__module__',\n",
       " '__ne__',\n",
       " '__new__',\n",
       " '__nonzero__',\n",
       " '__reduce__',\n",
       " '__reduce_ex__',\n",
       " '__repr__',\n",
       " '__setattr__',\n",
       " '__setstate__',\n",
       " '__sizeof__',\n",
       " '__str__',\n",
       " '__subclasshook__',\n",
       " '__weakref__',\n",
       " '_content',\n",
       " '_content_consumed',\n",
       " '_next',\n",
       " 'apparent_encoding',\n",
       " 'close',\n",
       " 'connection',\n",
       " 'content',\n",
       " 'cookies',\n",
       " 'elapsed',\n",
       " 'encoding',\n",
       " 'headers',\n",
       " 'history',\n",
       " 'is_permanent_redirect',\n",
       " 'is_redirect',\n",
       " 'iter_content',\n",
       " 'iter_lines',\n",
       " 'json',\n",
       " 'links',\n",
       " 'next',\n",
       " 'ok',\n",
       " 'raise_for_status',\n",
       " 'raw',\n",
       " 'reason',\n",
       " 'request',\n",
       " 'status_code',\n",
       " 'text',\n",
       " 'url']"
      ]
     },
     "execution_count": 8,
     "metadata": {},
     "output_type": "execute_result"
    }
   ],
   "source": [
    "dir(response)"
   ]
  },
  {
   "cell_type": "markdown",
   "id": "a1129972",
   "metadata": {
    "papermill": {
     "duration": 0.008124,
     "end_time": "2024-09-04T12:08:10.776308",
     "exception": false,
     "start_time": "2024-09-04T12:08:10.768184",
     "status": "completed"
    },
    "tags": []
   },
   "source": [
    "**Response Status Code**"
   ]
  },
  {
   "cell_type": "code",
   "execution_count": 9,
   "id": "7470ef3d",
   "metadata": {
    "execution": {
     "iopub.execute_input": "2024-09-04T12:08:10.795318Z",
     "iopub.status.busy": "2024-09-04T12:08:10.794873Z",
     "iopub.status.idle": "2024-09-04T12:08:10.803250Z",
     "shell.execute_reply": "2024-09-04T12:08:10.801816Z"
    },
    "papermill": {
     "duration": 0.020952,
     "end_time": "2024-09-04T12:08:10.805905",
     "exception": false,
     "start_time": "2024-09-04T12:08:10.784953",
     "status": "completed"
    },
    "tags": []
   },
   "outputs": [
    {
     "data": {
      "text/plain": [
       "200"
      ]
     },
     "execution_count": 9,
     "metadata": {},
     "output_type": "execute_result"
    }
   ],
   "source": [
    "response_code = response.status_code\n",
    "response_code"
   ]
  },
  {
   "cell_type": "markdown",
   "id": "73021b68",
   "metadata": {
    "papermill": {
     "duration": 0.008494,
     "end_time": "2024-09-04T12:08:10.823189",
     "exception": false,
     "start_time": "2024-09-04T12:08:10.814695",
     "status": "completed"
    },
    "tags": []
   },
   "source": [
    "**Response JSON**"
   ]
  },
  {
   "cell_type": "code",
   "execution_count": 10,
   "id": "86f5db03",
   "metadata": {
    "execution": {
     "iopub.execute_input": "2024-09-04T12:08:10.843179Z",
     "iopub.status.busy": "2024-09-04T12:08:10.842716Z",
     "iopub.status.idle": "2024-09-04T12:08:10.849444Z",
     "shell.execute_reply": "2024-09-04T12:08:10.848100Z"
    },
    "papermill": {
     "duration": 0.020706,
     "end_time": "2024-09-04T12:08:10.852712",
     "exception": false,
     "start_time": "2024-09-04T12:08:10.832006",
     "status": "completed"
    },
    "tags": []
   },
   "outputs": [
    {
     "name": "stdout",
     "output_type": "stream",
     "text": [
      "response_data type: <class 'dict'>\n"
     ]
    }
   ],
   "source": [
    "response_data = response.json()\n",
    "print(\"response_data type:\", type(response_data))"
   ]
  },
  {
   "cell_type": "markdown",
   "id": "0177d9a6",
   "metadata": {
    "papermill": {
     "duration": 0.008449,
     "end_time": "2024-09-04T12:08:10.870061",
     "exception": false,
     "start_time": "2024-09-04T12:08:10.861612",
     "status": "completed"
    },
    "tags": []
   },
   "source": [
    "**Response Data Keys**"
   ]
  },
  {
   "cell_type": "code",
   "execution_count": 11,
   "id": "259cee0c",
   "metadata": {
    "execution": {
     "iopub.execute_input": "2024-09-04T12:08:10.889853Z",
     "iopub.status.busy": "2024-09-04T12:08:10.889362Z",
     "iopub.status.idle": "2024-09-04T12:08:10.897452Z",
     "shell.execute_reply": "2024-09-04T12:08:10.896091Z"
    },
    "papermill": {
     "duration": 0.021113,
     "end_time": "2024-09-04T12:08:10.900167",
     "exception": false,
     "start_time": "2024-09-04T12:08:10.879054",
     "status": "completed"
    },
    "tags": []
   },
   "outputs": [
    {
     "data": {
      "text/plain": [
       "dict_keys(['Meta Data', 'Time Series (Daily)'])"
      ]
     },
     "execution_count": 11,
     "metadata": {},
     "output_type": "execute_result"
    }
   ],
   "source": [
    "# Print \"response\" data keys\n",
    "response_data.keys()"
   ]
  },
  {
   "cell_type": "markdown",
   "id": "32e29498",
   "metadata": {
    "papermill": {
     "duration": 0.008642,
     "end_time": "2024-09-04T12:08:10.918262",
     "exception": false,
     "start_time": "2024-09-04T12:08:10.909620",
     "status": "completed"
    },
    "tags": []
   },
   "source": [
    "**Stock Data**"
   ]
  },
  {
   "cell_type": "code",
   "execution_count": 12,
   "id": "195fb2b3",
   "metadata": {
    "execution": {
     "iopub.execute_input": "2024-09-04T12:08:10.938319Z",
     "iopub.status.busy": "2024-09-04T12:08:10.937866Z",
     "iopub.status.idle": "2024-09-04T12:08:10.972092Z",
     "shell.execute_reply": "2024-09-04T12:08:10.970843Z"
    },
    "papermill": {
     "duration": 0.047923,
     "end_time": "2024-09-04T12:08:10.975107",
     "exception": false,
     "start_time": "2024-09-04T12:08:10.927184",
     "status": "completed"
    },
    "tags": []
   },
   "outputs": [
    {
     "data": {
      "text/html": [
       "<div>\n",
       "<style scoped>\n",
       "    .dataframe tbody tr th:only-of-type {\n",
       "        vertical-align: middle;\n",
       "    }\n",
       "\n",
       "    .dataframe tbody tr th {\n",
       "        vertical-align: top;\n",
       "    }\n",
       "\n",
       "    .dataframe thead th {\n",
       "        text-align: right;\n",
       "    }\n",
       "</style>\n",
       "<table border=\"1\" class=\"dataframe\">\n",
       "  <thead>\n",
       "    <tr style=\"text-align: right;\">\n",
       "      <th></th>\n",
       "      <th>1. open</th>\n",
       "      <th>2. high</th>\n",
       "      <th>3. low</th>\n",
       "      <th>4. close</th>\n",
       "      <th>5. volume</th>\n",
       "    </tr>\n",
       "  </thead>\n",
       "  <tbody>\n",
       "    <tr>\n",
       "      <th>2024-09-03</th>\n",
       "      <td>81.780</td>\n",
       "      <td>83.0200</td>\n",
       "      <td>81.700</td>\n",
       "      <td>82.27</td>\n",
       "      <td>11638188.0</td>\n",
       "    </tr>\n",
       "    <tr>\n",
       "      <th>2024-08-30</th>\n",
       "      <td>84.720</td>\n",
       "      <td>84.7500</td>\n",
       "      <td>82.580</td>\n",
       "      <td>83.34</td>\n",
       "      <td>20027304.0</td>\n",
       "    </tr>\n",
       "    <tr>\n",
       "      <th>2024-08-29</th>\n",
       "      <td>81.240</td>\n",
       "      <td>81.4650</td>\n",
       "      <td>80.460</td>\n",
       "      <td>81.02</td>\n",
       "      <td>14154155.0</td>\n",
       "    </tr>\n",
       "    <tr>\n",
       "      <th>2024-08-28</th>\n",
       "      <td>81.125</td>\n",
       "      <td>81.2799</td>\n",
       "      <td>79.205</td>\n",
       "      <td>79.62</td>\n",
       "      <td>14024406.0</td>\n",
       "    </tr>\n",
       "    <tr>\n",
       "      <th>2024-08-27</th>\n",
       "      <td>82.270</td>\n",
       "      <td>82.6500</td>\n",
       "      <td>81.270</td>\n",
       "      <td>81.45</td>\n",
       "      <td>9026068.0</td>\n",
       "    </tr>\n",
       "  </tbody>\n",
       "</table>\n",
       "</div>"
      ],
      "text/plain": [
       "            1. open  2. high  3. low  4. close   5. volume\n",
       "2024-09-03   81.780  83.0200  81.700     82.27  11638188.0\n",
       "2024-08-30   84.720  84.7500  82.580     83.34  20027304.0\n",
       "2024-08-29   81.240  81.4650  80.460     81.02  14154155.0\n",
       "2024-08-28   81.125  81.2799  79.205     79.62  14024406.0\n",
       "2024-08-27   82.270  82.6500  81.270     81.45   9026068.0"
      ]
     },
     "execution_count": 12,
     "metadata": {},
     "output_type": "execute_result"
    }
   ],
   "source": [
    "# Extract \"Time Series data\" from response_data\n",
    "stock_data = response_data[\"Time Series (Daily)\"]\n",
    "\n",
    "# Put stock data to dataframe\n",
    "df_alibaba = pd.DataFrame.from_dict(stock_data, orient=\"index\", dtype=\"float\")\n",
    "\n",
    "df_alibaba.head()"
   ]
  },
  {
   "cell_type": "code",
   "execution_count": null,
   "id": "b7ecfea6",
   "metadata": {
    "papermill": {
     "duration": 0.009021,
     "end_time": "2024-09-04T12:08:10.993589",
     "exception": false,
     "start_time": "2024-09-04T12:08:10.984568",
     "status": "completed"
    },
    "tags": []
   },
   "outputs": [],
   "source": []
  }
 ],
 "metadata": {
  "kaggle": {
   "accelerator": "none",
   "dataSources": [],
   "dockerImageVersionId": 30761,
   "isGpuEnabled": false,
   "isInternetEnabled": true,
   "language": "python",
   "sourceType": "notebook"
  },
  "kernelspec": {
   "display_name": "Python 3",
   "language": "python",
   "name": "python3"
  },
  "language_info": {
   "codemirror_mode": {
    "name": "ipython",
    "version": 3
   },
   "file_extension": ".py",
   "mimetype": "text/x-python",
   "name": "python",
   "nbconvert_exporter": "python",
   "pygments_lexer": "ipython3",
   "version": "3.10.14"
  },
  "papermill": {
   "default_parameters": {},
   "duration": 5.6604,
   "end_time": "2024-09-04T12:08:11.524917",
   "environment_variables": {},
   "exception": null,
   "input_path": "__notebook__.ipynb",
   "output_path": "__notebook__.ipynb",
   "parameters": {},
   "start_time": "2024-09-04T12:08:05.864517",
   "version": "2.6.0"
  }
 },
 "nbformat": 4,
 "nbformat_minor": 5
}
