{
 "cells": [
  {
   "cell_type": "markdown",
   "id": "4e31d437",
   "metadata": {
    "papermill": {
     "duration": 0.007384,
     "end_time": "2024-09-04T16:57:59.525803",
     "exception": false,
     "start_time": "2024-09-04T16:57:59.518419",
     "status": "completed"
    },
    "tags": []
   },
   "source": [
    "**Goals**\n",
    "1. Extract stockdata from AlphaVantage API using a url\n",
    "2. Extract stock data from AlphaVantage API using a HTTP request\n",
    "3. Write functions for transforming data"
   ]
  },
  {
   "cell_type": "markdown",
   "id": "09e7685f",
   "metadata": {
    "papermill": {
     "duration": 0.006486,
     "end_time": "2024-09-04T16:57:59.539438",
     "exception": false,
     "start_time": "2024-09-04T16:57:59.532952",
     "status": "completed"
    },
    "tags": []
   },
   "source": [
    "**Import the necessary libraries**"
   ]
  },
  {
   "cell_type": "code",
   "execution_count": 1,
   "id": "fdac5d35",
   "metadata": {
    "execution": {
     "iopub.execute_input": "2024-09-04T16:57:59.554629Z",
     "iopub.status.busy": "2024-09-04T16:57:59.554209Z",
     "iopub.status.idle": "2024-09-04T16:58:00.032839Z",
     "shell.execute_reply": "2024-09-04T16:58:00.031864Z"
    },
    "papermill": {
     "duration": 0.489356,
     "end_time": "2024-09-04T16:58:00.035457",
     "exception": false,
     "start_time": "2024-09-04T16:57:59.546101",
     "status": "completed"
    },
    "tags": []
   },
   "outputs": [],
   "source": [
    "import pandas as pd\n",
    "import requests"
   ]
  },
  {
   "cell_type": "markdown",
   "id": "e6b89836",
   "metadata": {
    "papermill": {
     "duration": 0.006514,
     "end_time": "2024-09-04T16:58:00.048993",
     "exception": false,
     "start_time": "2024-09-04T16:58:00.042479",
     "status": "completed"
    },
    "tags": []
   },
   "source": [
    "# **Accesing APIs Through URL**"
   ]
  },
  {
   "cell_type": "code",
   "execution_count": 2,
   "id": "fe066150",
   "metadata": {
    "execution": {
     "iopub.execute_input": "2024-09-04T16:58:00.064422Z",
     "iopub.status.busy": "2024-09-04T16:58:00.063845Z",
     "iopub.status.idle": "2024-09-04T16:58:00.068964Z",
     "shell.execute_reply": "2024-09-04T16:58:00.067897Z"
    },
    "papermill": {
     "duration": 0.015532,
     "end_time": "2024-09-04T16:58:00.071164",
     "exception": false,
     "start_time": "2024-09-04T16:58:00.055632",
     "status": "completed"
    },
    "tags": []
   },
   "outputs": [],
   "source": [
    "url = (\n",
    "    \"https://www.alphavantage.co/query?\"\n",
    "    \"function=TIME_SERIES_DAILY&\"\n",
    "    \"symbol=IBM&\"\n",
    "    \"apikey=demo\"\n",
    ")"
   ]
  },
  {
   "cell_type": "code",
   "execution_count": 3,
   "id": "a8d2034c",
   "metadata": {
    "execution": {
     "iopub.execute_input": "2024-09-04T16:58:00.086466Z",
     "iopub.status.busy": "2024-09-04T16:58:00.086015Z",
     "iopub.status.idle": "2024-09-04T16:58:00.095493Z",
     "shell.execute_reply": "2024-09-04T16:58:00.094332Z"
    },
    "papermill": {
     "duration": 0.01987,
     "end_time": "2024-09-04T16:58:00.097806",
     "exception": false,
     "start_time": "2024-09-04T16:58:00.077936",
     "status": "completed"
    },
    "tags": []
   },
   "outputs": [
    {
     "name": "stdout",
     "output_type": "stream",
     "text": [
      "url type: <class 'str'>\n"
     ]
    },
    {
     "data": {
      "text/plain": [
       "'https://www.alphavantage.co/query?function=TIME_SERIES_DAILY&symbol=IBM&apikey=demo'"
      ]
     },
     "execution_count": 3,
     "metadata": {},
     "output_type": "execute_result"
    }
   ],
   "source": [
    "print(\"url type:\", type(url))\n",
    "url"
   ]
  },
  {
   "cell_type": "markdown",
   "id": "670a8c23",
   "metadata": {
    "papermill": {
     "duration": 0.006674,
     "end_time": "2024-09-04T16:58:00.111655",
     "exception": false,
     "start_time": "2024-09-04T16:58:00.104981",
     "status": "completed"
    },
    "tags": []
   },
   "source": [
    "**Storing API keys**"
   ]
  },
  {
   "cell_type": "code",
   "execution_count": 4,
   "id": "72824e64",
   "metadata": {
    "execution": {
     "iopub.execute_input": "2024-09-04T16:58:00.127619Z",
     "iopub.status.busy": "2024-09-04T16:58:00.126770Z",
     "iopub.status.idle": "2024-09-04T16:58:00.131644Z",
     "shell.execute_reply": "2024-09-04T16:58:00.130596Z"
    },
    "papermill": {
     "duration": 0.01539,
     "end_time": "2024-09-04T16:58:00.133877",
     "exception": false,
     "start_time": "2024-09-04T16:58:00.118487",
     "status": "completed"
    },
    "tags": []
   },
   "outputs": [],
   "source": [
    "alpha_api_key = \"PGPVDW57277TSFM3\""
   ]
  },
  {
   "cell_type": "markdown",
   "id": "7200ef37",
   "metadata": {
    "papermill": {
     "duration": 0.006571,
     "end_time": "2024-09-04T16:58:00.147381",
     "exception": false,
     "start_time": "2024-09-04T16:58:00.140810",
     "status": "completed"
    },
    "tags": []
   },
   "source": [
    "**URL for Alibaba Group Holding Limited**"
   ]
  },
  {
   "cell_type": "code",
   "execution_count": 5,
   "id": "3e4eafb5",
   "metadata": {
    "execution": {
     "iopub.execute_input": "2024-09-04T16:58:00.162878Z",
     "iopub.status.busy": "2024-09-04T16:58:00.162477Z",
     "iopub.status.idle": "2024-09-04T16:58:00.170278Z",
     "shell.execute_reply": "2024-09-04T16:58:00.169131Z"
    },
    "papermill": {
     "duration": 0.018852,
     "end_time": "2024-09-04T16:58:00.173187",
     "exception": false,
     "start_time": "2024-09-04T16:58:00.154335",
     "status": "completed"
    },
    "tags": []
   },
   "outputs": [
    {
     "name": "stdout",
     "output_type": "stream",
     "text": [
      "url type: <class 'str'>\n"
     ]
    },
    {
     "data": {
      "text/plain": [
       "'https://www.alphavantage.co/query?function=TIME_SERIES_DAILY&symbol=BABA&apikey=PGPVDW57277TSFM3'"
      ]
     },
     "execution_count": 5,
     "metadata": {},
     "output_type": "execute_result"
    }
   ],
   "source": [
    "url = (\n",
    "    \"https://www.alphavantage.co/query?\"\n",
    "    \"function=TIME_SERIES_DAILY&\"\n",
    "    \"symbol=BABA&\"\n",
    "    f\"apikey={alpha_api_key}\"\n",
    ")\n",
    "print(\"url type:\", type(url))\n",
    "url"
   ]
  },
  {
   "cell_type": "markdown",
   "id": "8f46c80d",
   "metadata": {
    "papermill": {
     "duration": 0.006896,
     "end_time": "2024-09-04T16:58:00.187307",
     "exception": false,
     "start_time": "2024-09-04T16:58:00.180411",
     "status": "completed"
    },
    "tags": []
   },
   "source": [
    "**URL for Alibaba Group Holdings Limited With Parameters**"
   ]
  },
  {
   "cell_type": "code",
   "execution_count": 6,
   "id": "28949086",
   "metadata": {
    "execution": {
     "iopub.execute_input": "2024-09-04T16:58:00.203734Z",
     "iopub.status.busy": "2024-09-04T16:58:00.203354Z",
     "iopub.status.idle": "2024-09-04T16:58:00.211652Z",
     "shell.execute_reply": "2024-09-04T16:58:00.210557Z"
    },
    "papermill": {
     "duration": 0.019497,
     "end_time": "2024-09-04T16:58:00.214166",
     "exception": false,
     "start_time": "2024-09-04T16:58:00.194669",
     "status": "completed"
    },
    "tags": []
   },
   "outputs": [
    {
     "name": "stdout",
     "output_type": "stream",
     "text": [
      "url type: <class 'str'>\n"
     ]
    },
    {
     "data": {
      "text/plain": [
       "'https://www.alphavantage.co/query?function=TIME_SERIES_DAILY&symbol=BABA&outputsize=compact&datatype=json&apikey=PGPVDW57277TSFM3'"
      ]
     },
     "execution_count": 6,
     "metadata": {},
     "output_type": "execute_result"
    }
   ],
   "source": [
    "ticker = \"BABA\"\n",
    "output_size = \"compact\"\n",
    "data_type = \"json\"\n",
    "\n",
    "url = (\n",
    "    \"https://www.alphavantage.co/query?\"\n",
    "    \"function=TIME_SERIES_DAILY&\"\n",
    "    f\"symbol={ticker}&\"\n",
    "    f\"outputsize={output_size}&\"\n",
    "    f\"datatype={data_type}&\"\n",
    "    f\"apikey={alpha_api_key}\"\n",
    ")\n",
    "print(\"url type:\", type(url))\n",
    "url"
   ]
  },
  {
   "cell_type": "markdown",
   "id": "035758db",
   "metadata": {
    "papermill": {
     "duration": 0.008943,
     "end_time": "2024-09-04T16:58:00.230785",
     "exception": false,
     "start_time": "2024-09-04T16:58:00.221842",
     "status": "completed"
    },
    "tags": []
   },
   "source": [
    "# **Accesing APIs through a Request**"
   ]
  },
  {
   "cell_type": "code",
   "execution_count": 7,
   "id": "43e36ffe",
   "metadata": {
    "execution": {
     "iopub.execute_input": "2024-09-04T16:58:00.247628Z",
     "iopub.status.busy": "2024-09-04T16:58:00.247244Z",
     "iopub.status.idle": "2024-09-04T16:58:00.811920Z",
     "shell.execute_reply": "2024-09-04T16:58:00.810602Z"
    },
    "papermill": {
     "duration": 0.576016,
     "end_time": "2024-09-04T16:58:00.814511",
     "exception": false,
     "start_time": "2024-09-04T16:58:00.238495",
     "status": "completed"
    },
    "tags": []
   },
   "outputs": [
    {
     "name": "stdout",
     "output_type": "stream",
     "text": [
      "response type: <class 'requests.models.Response'>\n"
     ]
    }
   ],
   "source": [
    "response = requests.get(url=url)\n",
    "print(\"response type:\", type(response))"
   ]
  },
  {
   "cell_type": "markdown",
   "id": "f8685d5f",
   "metadata": {
    "papermill": {
     "duration": 0.010251,
     "end_time": "2024-09-04T16:58:00.833805",
     "exception": false,
     "start_time": "2024-09-04T16:58:00.823554",
     "status": "completed"
    },
    "tags": []
   },
   "source": [
    "**Response Attributes**"
   ]
  },
  {
   "cell_type": "code",
   "execution_count": 8,
   "id": "924b8c96",
   "metadata": {
    "execution": {
     "iopub.execute_input": "2024-09-04T16:58:00.857942Z",
     "iopub.status.busy": "2024-09-04T16:58:00.857542Z",
     "iopub.status.idle": "2024-09-04T16:58:00.865791Z",
     "shell.execute_reply": "2024-09-04T16:58:00.864664Z"
    },
    "papermill": {
     "duration": 0.022692,
     "end_time": "2024-09-04T16:58:00.867983",
     "exception": false,
     "start_time": "2024-09-04T16:58:00.845291",
     "status": "completed"
    },
    "tags": []
   },
   "outputs": [
    {
     "data": {
      "text/plain": [
       "['__attrs__',\n",
       " '__bool__',\n",
       " '__class__',\n",
       " '__delattr__',\n",
       " '__dict__',\n",
       " '__dir__',\n",
       " '__doc__',\n",
       " '__enter__',\n",
       " '__eq__',\n",
       " '__exit__',\n",
       " '__format__',\n",
       " '__ge__',\n",
       " '__getattribute__',\n",
       " '__getstate__',\n",
       " '__gt__',\n",
       " '__hash__',\n",
       " '__init__',\n",
       " '__init_subclass__',\n",
       " '__iter__',\n",
       " '__le__',\n",
       " '__lt__',\n",
       " '__module__',\n",
       " '__ne__',\n",
       " '__new__',\n",
       " '__nonzero__',\n",
       " '__reduce__',\n",
       " '__reduce_ex__',\n",
       " '__repr__',\n",
       " '__setattr__',\n",
       " '__setstate__',\n",
       " '__sizeof__',\n",
       " '__str__',\n",
       " '__subclasshook__',\n",
       " '__weakref__',\n",
       " '_content',\n",
       " '_content_consumed',\n",
       " '_next',\n",
       " 'apparent_encoding',\n",
       " 'close',\n",
       " 'connection',\n",
       " 'content',\n",
       " 'cookies',\n",
       " 'elapsed',\n",
       " 'encoding',\n",
       " 'headers',\n",
       " 'history',\n",
       " 'is_permanent_redirect',\n",
       " 'is_redirect',\n",
       " 'iter_content',\n",
       " 'iter_lines',\n",
       " 'json',\n",
       " 'links',\n",
       " 'next',\n",
       " 'ok',\n",
       " 'raise_for_status',\n",
       " 'raw',\n",
       " 'reason',\n",
       " 'request',\n",
       " 'status_code',\n",
       " 'text',\n",
       " 'url']"
      ]
     },
     "execution_count": 8,
     "metadata": {},
     "output_type": "execute_result"
    }
   ],
   "source": [
    "dir(response)"
   ]
  },
  {
   "cell_type": "markdown",
   "id": "0d7cb087",
   "metadata": {
    "papermill": {
     "duration": 0.007293,
     "end_time": "2024-09-04T16:58:00.883081",
     "exception": false,
     "start_time": "2024-09-04T16:58:00.875788",
     "status": "completed"
    },
    "tags": []
   },
   "source": [
    "**Response Status Code**"
   ]
  },
  {
   "cell_type": "code",
   "execution_count": 9,
   "id": "782b28a1",
   "metadata": {
    "execution": {
     "iopub.execute_input": "2024-09-04T16:58:00.900056Z",
     "iopub.status.busy": "2024-09-04T16:58:00.899631Z",
     "iopub.status.idle": "2024-09-04T16:58:00.907100Z",
     "shell.execute_reply": "2024-09-04T16:58:00.905909Z"
    },
    "papermill": {
     "duration": 0.019043,
     "end_time": "2024-09-04T16:58:00.909704",
     "exception": false,
     "start_time": "2024-09-04T16:58:00.890661",
     "status": "completed"
    },
    "tags": []
   },
   "outputs": [
    {
     "data": {
      "text/plain": [
       "200"
      ]
     },
     "execution_count": 9,
     "metadata": {},
     "output_type": "execute_result"
    }
   ],
   "source": [
    "response_code = response.status_code\n",
    "response_code"
   ]
  },
  {
   "cell_type": "markdown",
   "id": "9c81a480",
   "metadata": {
    "papermill": {
     "duration": 0.01004,
     "end_time": "2024-09-04T16:58:00.927750",
     "exception": false,
     "start_time": "2024-09-04T16:58:00.917710",
     "status": "completed"
    },
    "tags": []
   },
   "source": [
    "**Response JSON**"
   ]
  },
  {
   "cell_type": "code",
   "execution_count": 10,
   "id": "58b30fd3",
   "metadata": {
    "execution": {
     "iopub.execute_input": "2024-09-04T16:58:00.945977Z",
     "iopub.status.busy": "2024-09-04T16:58:00.945439Z",
     "iopub.status.idle": "2024-09-04T16:58:00.952391Z",
     "shell.execute_reply": "2024-09-04T16:58:00.951323Z"
    },
    "papermill": {
     "duration": 0.019282,
     "end_time": "2024-09-04T16:58:00.955232",
     "exception": false,
     "start_time": "2024-09-04T16:58:00.935950",
     "status": "completed"
    },
    "tags": []
   },
   "outputs": [
    {
     "name": "stdout",
     "output_type": "stream",
     "text": [
      "response_data type: <class 'dict'>\n"
     ]
    }
   ],
   "source": [
    "response_data = response.json()\n",
    "print(\"response_data type:\", type(response_data))"
   ]
  },
  {
   "cell_type": "markdown",
   "id": "9274f287",
   "metadata": {
    "papermill": {
     "duration": 0.011273,
     "end_time": "2024-09-04T16:58:00.978181",
     "exception": false,
     "start_time": "2024-09-04T16:58:00.966908",
     "status": "completed"
    },
    "tags": []
   },
   "source": [
    "**Response Data Keys**"
   ]
  },
  {
   "cell_type": "code",
   "execution_count": 11,
   "id": "1f011e74",
   "metadata": {
    "execution": {
     "iopub.execute_input": "2024-09-04T16:58:01.002148Z",
     "iopub.status.busy": "2024-09-04T16:58:01.001611Z",
     "iopub.status.idle": "2024-09-04T16:58:01.009358Z",
     "shell.execute_reply": "2024-09-04T16:58:01.008203Z"
    },
    "papermill": {
     "duration": 0.021727,
     "end_time": "2024-09-04T16:58:01.011647",
     "exception": false,
     "start_time": "2024-09-04T16:58:00.989920",
     "status": "completed"
    },
    "tags": []
   },
   "outputs": [
    {
     "data": {
      "text/plain": [
       "dict_keys(['Meta Data', 'Time Series (Daily)'])"
      ]
     },
     "execution_count": 11,
     "metadata": {},
     "output_type": "execute_result"
    }
   ],
   "source": [
    "# Print \"response\" data keys\n",
    "response_data.keys()"
   ]
  },
  {
   "cell_type": "markdown",
   "id": "e5a433cf",
   "metadata": {
    "papermill": {
     "duration": 0.007725,
     "end_time": "2024-09-04T16:58:01.027327",
     "exception": false,
     "start_time": "2024-09-04T16:58:01.019602",
     "status": "completed"
    },
    "tags": []
   },
   "source": [
    "**Stock Data**"
   ]
  },
  {
   "cell_type": "code",
   "execution_count": 12,
   "id": "91f23fc4",
   "metadata": {
    "execution": {
     "iopub.execute_input": "2024-09-04T16:58:01.045057Z",
     "iopub.status.busy": "2024-09-04T16:58:01.044161Z",
     "iopub.status.idle": "2024-09-04T16:58:01.073602Z",
     "shell.execute_reply": "2024-09-04T16:58:01.072480Z"
    },
    "papermill": {
     "duration": 0.041142,
     "end_time": "2024-09-04T16:58:01.076314",
     "exception": false,
     "start_time": "2024-09-04T16:58:01.035172",
     "status": "completed"
    },
    "tags": []
   },
   "outputs": [
    {
     "data": {
      "text/html": [
       "<div>\n",
       "<style scoped>\n",
       "    .dataframe tbody tr th:only-of-type {\n",
       "        vertical-align: middle;\n",
       "    }\n",
       "\n",
       "    .dataframe tbody tr th {\n",
       "        vertical-align: top;\n",
       "    }\n",
       "\n",
       "    .dataframe thead th {\n",
       "        text-align: right;\n",
       "    }\n",
       "</style>\n",
       "<table border=\"1\" class=\"dataframe\">\n",
       "  <thead>\n",
       "    <tr style=\"text-align: right;\">\n",
       "      <th></th>\n",
       "      <th>1. open</th>\n",
       "      <th>2. high</th>\n",
       "      <th>3. low</th>\n",
       "      <th>4. close</th>\n",
       "      <th>5. volume</th>\n",
       "    </tr>\n",
       "  </thead>\n",
       "  <tbody>\n",
       "    <tr>\n",
       "      <th>2024-09-03</th>\n",
       "      <td>81.780</td>\n",
       "      <td>83.0200</td>\n",
       "      <td>81.700</td>\n",
       "      <td>82.27</td>\n",
       "      <td>11638188.0</td>\n",
       "    </tr>\n",
       "    <tr>\n",
       "      <th>2024-08-30</th>\n",
       "      <td>84.720</td>\n",
       "      <td>84.7500</td>\n",
       "      <td>82.580</td>\n",
       "      <td>83.34</td>\n",
       "      <td>20027304.0</td>\n",
       "    </tr>\n",
       "    <tr>\n",
       "      <th>2024-08-29</th>\n",
       "      <td>81.240</td>\n",
       "      <td>81.4650</td>\n",
       "      <td>80.460</td>\n",
       "      <td>81.02</td>\n",
       "      <td>14154155.0</td>\n",
       "    </tr>\n",
       "    <tr>\n",
       "      <th>2024-08-28</th>\n",
       "      <td>81.125</td>\n",
       "      <td>81.2799</td>\n",
       "      <td>79.205</td>\n",
       "      <td>79.62</td>\n",
       "      <td>14024406.0</td>\n",
       "    </tr>\n",
       "    <tr>\n",
       "      <th>2024-08-27</th>\n",
       "      <td>82.270</td>\n",
       "      <td>82.6500</td>\n",
       "      <td>81.270</td>\n",
       "      <td>81.45</td>\n",
       "      <td>9026068.0</td>\n",
       "    </tr>\n",
       "  </tbody>\n",
       "</table>\n",
       "</div>"
      ],
      "text/plain": [
       "            1. open  2. high  3. low  4. close   5. volume\n",
       "2024-09-03   81.780  83.0200  81.700     82.27  11638188.0\n",
       "2024-08-30   84.720  84.7500  82.580     83.34  20027304.0\n",
       "2024-08-29   81.240  81.4650  80.460     81.02  14154155.0\n",
       "2024-08-28   81.125  81.2799  79.205     79.62  14024406.0\n",
       "2024-08-27   82.270  82.6500  81.270     81.45   9026068.0"
      ]
     },
     "execution_count": 12,
     "metadata": {},
     "output_type": "execute_result"
    }
   ],
   "source": [
    "# Extract \"Time Series data\" from response_data\n",
    "stock_data = response_data[\"Time Series (Daily)\"]\n",
    "\n",
    "# Put stock data to dataframe\n",
    "df_alibaba = pd.DataFrame.from_dict(stock_data, orient=\"index\", dtype=\"float\")\n",
    "\n",
    "df_alibaba.head()"
   ]
  },
  {
   "cell_type": "markdown",
   "id": "b6afcc73",
   "metadata": {
    "papermill": {
     "duration": 0.010904,
     "end_time": "2024-09-04T16:58:01.099838",
     "exception": false,
     "start_time": "2024-09-04T16:58:01.088934",
     "status": "completed"
    },
    "tags": []
   },
   "source": [
    "**Datetime Index**"
   ]
  },
  {
   "cell_type": "markdown",
   "id": "9c6dd497",
   "metadata": {
    "papermill": {
     "duration": 0.011869,
     "end_time": "2024-09-04T16:58:01.123301",
     "exception": false,
     "start_time": "2024-09-04T16:58:01.111432",
     "status": "completed"
    },
    "tags": []
   },
   "source": [
    "Changing the data type of df_alibaba index from a float to datetime would be appropriate"
   ]
  },
  {
   "cell_type": "code",
   "execution_count": 13,
   "id": "e85fdd4d",
   "metadata": {
    "execution": {
     "iopub.execute_input": "2024-09-04T16:58:01.144448Z",
     "iopub.status.busy": "2024-09-04T16:58:01.143375Z",
     "iopub.status.idle": "2024-09-04T16:58:01.168878Z",
     "shell.execute_reply": "2024-09-04T16:58:01.167632Z"
    },
    "papermill": {
     "duration": 0.037807,
     "end_time": "2024-09-04T16:58:01.171460",
     "exception": false,
     "start_time": "2024-09-04T16:58:01.133653",
     "status": "completed"
    },
    "tags": []
   },
   "outputs": [
    {
     "data": {
      "text/html": [
       "<div>\n",
       "<style scoped>\n",
       "    .dataframe tbody tr th:only-of-type {\n",
       "        vertical-align: middle;\n",
       "    }\n",
       "\n",
       "    .dataframe tbody tr th {\n",
       "        vertical-align: top;\n",
       "    }\n",
       "\n",
       "    .dataframe thead th {\n",
       "        text-align: right;\n",
       "    }\n",
       "</style>\n",
       "<table border=\"1\" class=\"dataframe\">\n",
       "  <thead>\n",
       "    <tr style=\"text-align: right;\">\n",
       "      <th></th>\n",
       "      <th>1. open</th>\n",
       "      <th>2. high</th>\n",
       "      <th>3. low</th>\n",
       "      <th>4. close</th>\n",
       "      <th>5. volume</th>\n",
       "    </tr>\n",
       "    <tr>\n",
       "      <th>date</th>\n",
       "      <th></th>\n",
       "      <th></th>\n",
       "      <th></th>\n",
       "      <th></th>\n",
       "      <th></th>\n",
       "    </tr>\n",
       "  </thead>\n",
       "  <tbody>\n",
       "    <tr>\n",
       "      <th>2024-09-03</th>\n",
       "      <td>81.780</td>\n",
       "      <td>83.0200</td>\n",
       "      <td>81.700</td>\n",
       "      <td>82.27</td>\n",
       "      <td>11638188.0</td>\n",
       "    </tr>\n",
       "    <tr>\n",
       "      <th>2024-08-30</th>\n",
       "      <td>84.720</td>\n",
       "      <td>84.7500</td>\n",
       "      <td>82.580</td>\n",
       "      <td>83.34</td>\n",
       "      <td>20027304.0</td>\n",
       "    </tr>\n",
       "    <tr>\n",
       "      <th>2024-08-29</th>\n",
       "      <td>81.240</td>\n",
       "      <td>81.4650</td>\n",
       "      <td>80.460</td>\n",
       "      <td>81.02</td>\n",
       "      <td>14154155.0</td>\n",
       "    </tr>\n",
       "    <tr>\n",
       "      <th>2024-08-28</th>\n",
       "      <td>81.125</td>\n",
       "      <td>81.2799</td>\n",
       "      <td>79.205</td>\n",
       "      <td>79.62</td>\n",
       "      <td>14024406.0</td>\n",
       "    </tr>\n",
       "    <tr>\n",
       "      <th>2024-08-27</th>\n",
       "      <td>82.270</td>\n",
       "      <td>82.6500</td>\n",
       "      <td>81.270</td>\n",
       "      <td>81.45</td>\n",
       "      <td>9026068.0</td>\n",
       "    </tr>\n",
       "  </tbody>\n",
       "</table>\n",
       "</div>"
      ],
      "text/plain": [
       "            1. open  2. high  3. low  4. close   5. volume\n",
       "date                                                      \n",
       "2024-09-03   81.780  83.0200  81.700     82.27  11638188.0\n",
       "2024-08-30   84.720  84.7500  82.580     83.34  20027304.0\n",
       "2024-08-29   81.240  81.4650  80.460     81.02  14154155.0\n",
       "2024-08-28   81.125  81.2799  79.205     79.62  14024406.0\n",
       "2024-08-27   82.270  82.6500  81.270     81.45   9026068.0"
      ]
     },
     "execution_count": 13,
     "metadata": {},
     "output_type": "execute_result"
    }
   ],
   "source": [
    "df_alibaba.index = pd.to_datetime(df_alibaba.index)\n",
    "# Name index \"date\"\n",
    "df_alibaba.index.name = \"date\"\n",
    "\n",
    "df_alibaba.head()"
   ]
  },
  {
   "cell_type": "markdown",
   "id": "5ca65a46",
   "metadata": {
    "papermill": {
     "duration": 0.007846,
     "end_time": "2024-09-04T16:58:01.187804",
     "exception": false,
     "start_time": "2024-09-04T16:58:01.179958",
     "status": "completed"
    },
    "tags": []
   },
   "source": [
    "**Column Cleaning**"
   ]
  },
  {
   "cell_type": "markdown",
   "id": "a7a9ce08",
   "metadata": {
    "papermill": {
     "duration": 0.00802,
     "end_time": "2024-09-04T16:58:01.203928",
     "exception": false,
     "start_time": "2024-09-04T16:58:01.195908",
     "status": "completed"
    },
    "tags": []
   },
   "source": [
    "Lets remove numbering from df_alibaba column names."
   ]
  },
  {
   "cell_type": "code",
   "execution_count": 14,
   "id": "0e58bee9",
   "metadata": {
    "execution": {
     "iopub.execute_input": "2024-09-04T16:58:01.222774Z",
     "iopub.status.busy": "2024-09-04T16:58:01.221803Z",
     "iopub.status.idle": "2024-09-04T16:58:01.240276Z",
     "shell.execute_reply": "2024-09-04T16:58:01.238970Z"
    },
    "papermill": {
     "duration": 0.030602,
     "end_time": "2024-09-04T16:58:01.242661",
     "exception": false,
     "start_time": "2024-09-04T16:58:01.212059",
     "status": "completed"
    },
    "tags": []
   },
   "outputs": [
    {
     "data": {
      "text/html": [
       "<div>\n",
       "<style scoped>\n",
       "    .dataframe tbody tr th:only-of-type {\n",
       "        vertical-align: middle;\n",
       "    }\n",
       "\n",
       "    .dataframe tbody tr th {\n",
       "        vertical-align: top;\n",
       "    }\n",
       "\n",
       "    .dataframe thead th {\n",
       "        text-align: right;\n",
       "    }\n",
       "</style>\n",
       "<table border=\"1\" class=\"dataframe\">\n",
       "  <thead>\n",
       "    <tr style=\"text-align: right;\">\n",
       "      <th></th>\n",
       "      <th>open</th>\n",
       "      <th>high</th>\n",
       "      <th>low</th>\n",
       "      <th>close</th>\n",
       "      <th>volume</th>\n",
       "    </tr>\n",
       "    <tr>\n",
       "      <th>date</th>\n",
       "      <th></th>\n",
       "      <th></th>\n",
       "      <th></th>\n",
       "      <th></th>\n",
       "      <th></th>\n",
       "    </tr>\n",
       "  </thead>\n",
       "  <tbody>\n",
       "    <tr>\n",
       "      <th>2024-09-03</th>\n",
       "      <td>81.780</td>\n",
       "      <td>83.0200</td>\n",
       "      <td>81.700</td>\n",
       "      <td>82.27</td>\n",
       "      <td>11638188.0</td>\n",
       "    </tr>\n",
       "    <tr>\n",
       "      <th>2024-08-30</th>\n",
       "      <td>84.720</td>\n",
       "      <td>84.7500</td>\n",
       "      <td>82.580</td>\n",
       "      <td>83.34</td>\n",
       "      <td>20027304.0</td>\n",
       "    </tr>\n",
       "    <tr>\n",
       "      <th>2024-08-29</th>\n",
       "      <td>81.240</td>\n",
       "      <td>81.4650</td>\n",
       "      <td>80.460</td>\n",
       "      <td>81.02</td>\n",
       "      <td>14154155.0</td>\n",
       "    </tr>\n",
       "    <tr>\n",
       "      <th>2024-08-28</th>\n",
       "      <td>81.125</td>\n",
       "      <td>81.2799</td>\n",
       "      <td>79.205</td>\n",
       "      <td>79.62</td>\n",
       "      <td>14024406.0</td>\n",
       "    </tr>\n",
       "    <tr>\n",
       "      <th>2024-08-27</th>\n",
       "      <td>82.270</td>\n",
       "      <td>82.6500</td>\n",
       "      <td>81.270</td>\n",
       "      <td>81.45</td>\n",
       "      <td>9026068.0</td>\n",
       "    </tr>\n",
       "  </tbody>\n",
       "</table>\n",
       "</div>"
      ],
      "text/plain": [
       "              open     high     low  close      volume\n",
       "date                                                  \n",
       "2024-09-03  81.780  83.0200  81.700  82.27  11638188.0\n",
       "2024-08-30  84.720  84.7500  82.580  83.34  20027304.0\n",
       "2024-08-29  81.240  81.4650  80.460  81.02  14154155.0\n",
       "2024-08-28  81.125  81.2799  79.205  79.62  14024406.0\n",
       "2024-08-27  82.270  82.6500  81.270  81.45   9026068.0"
      ]
     },
     "execution_count": 14,
     "metadata": {},
     "output_type": "execute_result"
    }
   ],
   "source": [
    "df_alibaba.columns = [c.split(\".\")[1] for c in df_alibaba.columns]\n",
    "df_alibaba.head()"
   ]
  },
  {
   "cell_type": "markdown",
   "id": "a310a0ec",
   "metadata": {
    "papermill": {
     "duration": 0.008272,
     "end_time": "2024-09-04T16:58:01.259651",
     "exception": false,
     "start_time": "2024-09-04T16:58:01.251379",
     "status": "completed"
    },
    "tags": []
   },
   "source": [
    "**Get Daily Function**"
   ]
  },
  {
   "cell_type": "code",
   "execution_count": 15,
   "id": "77f51c0b",
   "metadata": {
    "execution": {
     "iopub.execute_input": "2024-09-04T16:58:01.279006Z",
     "iopub.status.busy": "2024-09-04T16:58:01.277924Z",
     "iopub.status.idle": "2024-09-04T16:58:01.289747Z",
     "shell.execute_reply": "2024-09-04T16:58:01.288634Z"
    },
    "papermill": {
     "duration": 0.023971,
     "end_time": "2024-09-04T16:58:01.291971",
     "exception": false,
     "start_time": "2024-09-04T16:58:01.268000",
     "status": "completed"
    },
    "tags": []
   },
   "outputs": [],
   "source": [
    "def get_daily(ticker, output_size=\"full\"):\n",
    "    \"\"\"Get daily time series of an equity from AlphaVantage.\n",
    "    parameters\n",
    "    _ _ _ _ _ _\n",
    "    ticker: str\n",
    "        The ticker symbol of the equity.\n",
    "    output_size: str\n",
    "        Number of observations to return. \"full\" means the historic observations of the equtiy to be returned, \"compact means the most recent observations.\"\n",
    "    returns\n",
    "    _ _ _ _ _ _\n",
    "    pd.DataFrame:\n",
    "        Columns are \"open, high, low, close, volume\"\n",
    "    \"\"\"\n",
    "    \n",
    "    # Create URL\n",
    "    url = (\n",
    "        \"https://www.alphavantage.co/query?\"\n",
    "        \"function=TIME_SERIES_DAILY&\"\n",
    "        f\"symbol={ticker}&\"\n",
    "        f\"outputsize={output_size}&\"\n",
    "        f\"datatype=json&\"\n",
    "        f\"apikey={alpha_api_key}\"\n",
    "    )\n",
    "    \n",
    "    # Send request to api\n",
    "    response = requests.get(url=url)\n",
    "    \n",
    "    # Check if the request  is successfull\n",
    "    if response.status_code != 200:\n",
    "        raise Exception(f\"Error fetching data: {response.status_code}\")\n",
    "    \n",
    "    # Check if the \"Time Series key exists\" in response_data\n",
    "    if \"Time Series (Daily)\" not in response_data.keys():\n",
    "        raise Exception(\n",
    "            f\"Invalid API call. Check the ticker symbol: {ticker}\"\n",
    "        )\n",
    "    \n",
    "    # Extract json data from response\n",
    "    data = response_data[\"Time Series (Daily)\"]\n",
    "    \n",
    "    # Read data into DataFrame\n",
    "    stock_data = pd.DataFrame.from_dict(data, orient=\"index\", dtype=\"float\")\n",
    "    \n",
    "    # Convert \"index\" to \"datetime index\" and name \"date\"\n",
    "    stock_data.index =  pd.to_datetime(stock_data.index)\n",
    "    stock_data.index.name = \"date\"\n",
    "\n",
    "    # Removing numbering from your column names\n",
    "    stock_data.columns = [c.split(\".\")[1] for c in stock_data.columns]\n",
    "    \n",
    "    return stock_data"
   ]
  },
  {
   "cell_type": "markdown",
   "id": "efadbb60",
   "metadata": {
    "papermill": {
     "duration": 0.008263,
     "end_time": "2024-09-04T16:58:01.308963",
     "exception": false,
     "start_time": "2024-09-04T16:58:01.300700",
     "status": "completed"
    },
    "tags": []
   },
   "source": [
    "**Test get_daily function**"
   ]
  },
  {
   "cell_type": "code",
   "execution_count": 16,
   "id": "cb0fb618",
   "metadata": {
    "execution": {
     "iopub.execute_input": "2024-09-04T16:58:01.335325Z",
     "iopub.status.busy": "2024-09-04T16:58:01.334260Z",
     "iopub.status.idle": "2024-09-04T16:58:04.363049Z",
     "shell.execute_reply": "2024-09-04T16:58:04.361911Z"
    },
    "papermill": {
     "duration": 3.044891,
     "end_time": "2024-09-04T16:58:04.365464",
     "exception": false,
     "start_time": "2024-09-04T16:58:01.320573",
     "status": "completed"
    },
    "tags": []
   },
   "outputs": [
    {
     "data": {
      "text/html": [
       "<div>\n",
       "<style scoped>\n",
       "    .dataframe tbody tr th:only-of-type {\n",
       "        vertical-align: middle;\n",
       "    }\n",
       "\n",
       "    .dataframe tbody tr th {\n",
       "        vertical-align: top;\n",
       "    }\n",
       "\n",
       "    .dataframe thead th {\n",
       "        text-align: right;\n",
       "    }\n",
       "</style>\n",
       "<table border=\"1\" class=\"dataframe\">\n",
       "  <thead>\n",
       "    <tr style=\"text-align: right;\">\n",
       "      <th></th>\n",
       "      <th>open</th>\n",
       "      <th>high</th>\n",
       "      <th>low</th>\n",
       "      <th>close</th>\n",
       "      <th>volume</th>\n",
       "    </tr>\n",
       "    <tr>\n",
       "      <th>date</th>\n",
       "      <th></th>\n",
       "      <th></th>\n",
       "      <th></th>\n",
       "      <th></th>\n",
       "      <th></th>\n",
       "    </tr>\n",
       "  </thead>\n",
       "  <tbody>\n",
       "    <tr>\n",
       "      <th>2024-09-03</th>\n",
       "      <td>81.780</td>\n",
       "      <td>83.0200</td>\n",
       "      <td>81.700</td>\n",
       "      <td>82.27</td>\n",
       "      <td>11638188.0</td>\n",
       "    </tr>\n",
       "    <tr>\n",
       "      <th>2024-08-30</th>\n",
       "      <td>84.720</td>\n",
       "      <td>84.7500</td>\n",
       "      <td>82.580</td>\n",
       "      <td>83.34</td>\n",
       "      <td>20027304.0</td>\n",
       "    </tr>\n",
       "    <tr>\n",
       "      <th>2024-08-29</th>\n",
       "      <td>81.240</td>\n",
       "      <td>81.4650</td>\n",
       "      <td>80.460</td>\n",
       "      <td>81.02</td>\n",
       "      <td>14154155.0</td>\n",
       "    </tr>\n",
       "    <tr>\n",
       "      <th>2024-08-28</th>\n",
       "      <td>81.125</td>\n",
       "      <td>81.2799</td>\n",
       "      <td>79.205</td>\n",
       "      <td>79.62</td>\n",
       "      <td>14024406.0</td>\n",
       "    </tr>\n",
       "    <tr>\n",
       "      <th>2024-08-27</th>\n",
       "      <td>82.270</td>\n",
       "      <td>82.6500</td>\n",
       "      <td>81.270</td>\n",
       "      <td>81.45</td>\n",
       "      <td>9026068.0</td>\n",
       "    </tr>\n",
       "  </tbody>\n",
       "</table>\n",
       "</div>"
      ],
      "text/plain": [
       "              open     high     low  close      volume\n",
       "date                                                  \n",
       "2024-09-03  81.780  83.0200  81.700  82.27  11638188.0\n",
       "2024-08-30  84.720  84.7500  82.580  83.34  20027304.0\n",
       "2024-08-29  81.240  81.4650  80.460  81.02  14154155.0\n",
       "2024-08-28  81.125  81.2799  79.205  79.62  14024406.0\n",
       "2024-08-27  82.270  82.6500  81.270  81.45   9026068.0"
      ]
     },
     "execution_count": 16,
     "metadata": {},
     "output_type": "execute_result"
    }
   ],
   "source": [
    "alibaba_stock_data = get_daily(ticker=\"AMBUJACEM.BSE\")\n",
    "alibaba_stock_data.head()"
   ]
  },
  {
   "cell_type": "code",
   "execution_count": null,
   "id": "96c2ed73",
   "metadata": {
    "papermill": {
     "duration": 0.008248,
     "end_time": "2024-09-04T16:58:04.382489",
     "exception": false,
     "start_time": "2024-09-04T16:58:04.374241",
     "status": "completed"
    },
    "tags": []
   },
   "outputs": [],
   "source": []
  }
 ],
 "metadata": {
  "kaggle": {
   "accelerator": "none",
   "dataSources": [],
   "dockerImageVersionId": 30761,
   "isGpuEnabled": false,
   "isInternetEnabled": true,
   "language": "python",
   "sourceType": "notebook"
  },
  "kernelspec": {
   "display_name": "Python 3",
   "language": "python",
   "name": "python3"
  },
  "language_info": {
   "codemirror_mode": {
    "name": "ipython",
    "version": 3
   },
   "file_extension": ".py",
   "mimetype": "text/x-python",
   "name": "python",
   "nbconvert_exporter": "python",
   "pygments_lexer": "ipython3",
   "version": "3.10.14"
  },
  "papermill": {
   "default_parameters": {},
   "duration": 8.116859,
   "end_time": "2024-09-04T16:58:04.911875",
   "environment_variables": {},
   "exception": null,
   "input_path": "__notebook__.ipynb",
   "output_path": "__notebook__.ipynb",
   "parameters": {},
   "start_time": "2024-09-04T16:57:56.795016",
   "version": "2.6.0"
  }
 },
 "nbformat": 4,
 "nbformat_minor": 5
}
